{
 "cells": [
  {
   "cell_type": "code",
   "execution_count": null,
   "metadata": {},
   "outputs": [],
   "source": [
    "import torch\n",
    "import torch.nn as nn\n",
    "import torch.optim as optim\n",
    "import numpy as np\n",
    "import nn_vis\n",
    "import matplotlib.pyplot as plt\n",
    "from torchviz import make_dot\n",
    "from IPython.display import Image, display"
   ]
  },
  {
   "cell_type": "markdown",
   "metadata": {},
   "source": [
    "# Model Definition\n"
   ]
  },
  {
   "cell_type": "code",
   "execution_count": null,
   "metadata": {},
   "outputs": [],
   "source": [
    "class FeedForward(nn.Module):\n",
    "    def __init__(self):\n",
    "        super().__init__()\n",
    "        # Layers\n",
    "        self.layer1 = nn.Linear(1, 10)\n",
    "        self.layer2 = nn.Linear(10, 10)\n",
    "        self.layer3 = nn.Linear(10, 10)\n",
    "        self.layer4 = nn.Linear(10, 1)\n",
    "\n",
    "    def forward(self, x):\n",
    "        # Forward pass, layer by layer\n",
    "        x = self.layer1(x)\n",
    "        x = torch.tanh(x)\n",
    "        x = self.layer2(x)\n",
    "        x = torch.tanh(x)\n",
    "        x = self.layer3(x)\n",
    "        x = torch.tanh(x)\n",
    "        x = self.layer4(x)\n",
    "        return x"
   ]
  },
  {
   "cell_type": "code",
   "execution_count": null,
   "metadata": {},
   "outputs": [],
   "source": [
    "# Create a model instance\n",
    "model = FeedForward()"
   ]
  },
  {
   "cell_type": "code",
   "execution_count": null,
   "metadata": {},
   "outputs": [],
   "source": [
    "nn_vis.visualize_neural_network(model)"
   ]
  },
  {
   "cell_type": "code",
   "execution_count": null,
   "metadata": {},
   "outputs": [],
   "source": [
    "def display_model(model):\n",
    "    sample_input = torch.randn(1)\n",
    "    output = model(sample_input)\n",
    "    dot = make_dot(output, params=dict(model.named_parameters()))\n",
    "    dot.render(\"simple_ffn_graph\", format=\"png\")\n",
    "    display(Image(filename=\"simple_ffn_graph.png\"))\n",
    "\n",
    "\n",
    "display_model(model)"
   ]
  },
  {
   "cell_type": "markdown",
   "metadata": {},
   "source": [
    "# Sampling a Function\n"
   ]
  },
  {
   "cell_type": "code",
   "execution_count": null,
   "metadata": {},
   "outputs": [],
   "source": [
    "# Generate sine wave data\n",
    "x = np.linspace(0, 2 * np.pi, 1000)\n",
    "y = np.sin(x)\n",
    "\n",
    "# Display the sine wave\n",
    "plt.figure(figsize=(8, 4))\n",
    "plt.plot(x, y, label=\"Sine Wave\")\n",
    "plt.title(\"Sine Wave\")\n",
    "plt.xlabel(\"x\")\n",
    "plt.ylabel(\"sin(x)\")\n",
    "plt.legend()\n",
    "plt.show()"
   ]
  },
  {
   "cell_type": "code",
   "execution_count": null,
   "metadata": {},
   "outputs": [],
   "source": [
    "N_SAMPLES = 10\n",
    "\n",
    "# Sample 100 points from the sine wave data\n",
    "sample_indices = np.random.choice(len(x), size=N_SAMPLES, replace=False)\n",
    "x_sample = x[sample_indices]\n",
    "y_sample = y[sample_indices]\n",
    "\n",
    "# Plot the sampled points on top of the sine wave\n",
    "plt.figure(figsize=(8, 4))\n",
    "plt.plot(x, y, label=\"Sine Wave\")\n",
    "plt.scatter(x_sample, y_sample, color=\"red\", label=\"Sampled Points\")\n",
    "plt.title(\"Sine Wave with Sampled Points\")\n",
    "plt.xlabel(\"x\")\n",
    "plt.ylabel(\"sin(x)\")\n",
    "plt.legend()\n",
    "plt.show()"
   ]
  },
  {
   "cell_type": "code",
   "execution_count": null,
   "metadata": {},
   "outputs": [],
   "source": [
    "# Convert sampled data to tensors\n",
    "x_train = torch.tensor(x_sample, dtype=torch.float32).unsqueeze(1)\n",
    "y_train = torch.tensor(y_sample, dtype=torch.float32).unsqueeze(1)"
   ]
  },
  {
   "cell_type": "code",
   "execution_count": null,
   "metadata": {},
   "outputs": [],
   "source": [
    "print(x_train)"
   ]
  },
  {
   "cell_type": "code",
   "execution_count": null,
   "metadata": {},
   "outputs": [],
   "source": [
    "print(y_train)"
   ]
  },
  {
   "cell_type": "markdown",
   "metadata": {},
   "source": [
    "# Training the Model\n"
   ]
  },
  {
   "cell_type": "code",
   "execution_count": null,
   "metadata": {},
   "outputs": [],
   "source": [
    "model = FeedForward()\n",
    "\n",
    "# Define loss function and optimizer\n",
    "criterion = nn.MSELoss()\n",
    "optimizer = optim.Adam(model.parameters(), lr=0.001)\n",
    "\n",
    "# Training loop\n",
    "EPOCHS = 700\n",
    "losses = []\n",
    "\n",
    "for epoch in range(EPOCHS):\n",
    "    # Prep for next loop\n",
    "    model.train()\n",
    "    optimizer.zero_grad()\n",
    "\n",
    "    # Compute predictions at sampled points\n",
    "    outputs = model(x_train)\n",
    "\n",
    "    # How far off are we?\n",
    "    loss = criterion(outputs, y_train)\n",
    "\n",
    "    # Correct weights\n",
    "    loss.backward()\n",
    "    optimizer.step()\n",
    "\n",
    "    # Store losses for plotting\n",
    "    losses.append(loss.item())\n",
    "\n",
    "    print(f\"Epoch {epoch + 1}/{EPOCHS}, Loss: {loss.item():.6f}\")"
   ]
  },
  {
   "cell_type": "markdown",
   "metadata": {},
   "source": [
    "# Reviewing Results\n"
   ]
  },
  {
   "cell_type": "code",
   "execution_count": null,
   "metadata": {},
   "outputs": [],
   "source": [
    "# Plot loss curve\n",
    "plt.figure(figsize=(8, 4))\n",
    "plt.plot(losses)\n",
    "plt.title(\"Training Loss Curve\")\n",
    "plt.xlabel(\"Epoch\")\n",
    "plt.ylabel(\"MSE Loss\")\n",
    "plt.show()"
   ]
  },
  {
   "cell_type": "code",
   "execution_count": null,
   "metadata": {},
   "outputs": [],
   "source": [
    "import numpy as np\n",
    "import matplotlib.pyplot as plt\n",
    "\n",
    "# Generate inputs from 0 to 2pi\n",
    "x_test = np.linspace(0, 2 * np.pi, 100)\n",
    "x_test_tensor = torch.tensor(x_test, dtype=torch.float32).unsqueeze(1)\n",
    "\n",
    "# Get model predictions\n",
    "model.eval()\n",
    "with torch.no_grad():\n",
    "    y_pred = model(x_test_tensor).squeeze().numpy()\n",
    "\n",
    "# Display the model outputs with matplotlib and plot sine wave for comparison\n",
    "plt.figure(figsize=(8, 4))\n",
    "plt.plot(x_test, y_pred, label=\"Model Output\")\n",
    "plt.plot(x_test, np.sin(x_test), \"k:\", label=\"Sine Wave (dotted)\")\n",
    "plt.title(\"Model Predictions\")\n",
    "plt.xlabel(\"x\")\n",
    "plt.ylabel(\"y_pred\")\n",
    "plt.legend()\n",
    "plt.show()"
   ]
  },
  {
   "cell_type": "code",
   "execution_count": null,
   "metadata": {},
   "outputs": [],
   "source": []
  }
 ],
 "metadata": {
  "kernelspec": {
   "display_name": "pytorch-csu-ccc-summer-camp",
   "language": "python",
   "name": "python3"
  },
  "language_info": {
   "codemirror_mode": {
    "name": "ipython",
    "version": 3
   },
   "file_extension": ".py",
   "mimetype": "text/x-python",
   "name": "python",
   "nbconvert_exporter": "python",
   "pygments_lexer": "ipython3",
   "version": "3.13.3"
  }
 },
 "nbformat": 4,
 "nbformat_minor": 2
}
